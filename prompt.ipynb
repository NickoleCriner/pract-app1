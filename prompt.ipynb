{
 "cells": [
  {
   "cell_type": "markdown",
   "metadata": {},
   "source": [
    "### Will a Customer Accept the Coupon?\n",
    "\n",
    "**Context**\n",
    "\n",
    "Imagine driving through town and a coupon is delivered to your cell phone for a restaraunt near where you are driving. Would you accept that coupon and take a short detour to the restaraunt? Would you accept the coupon but use it on a sunbsequent trip? Would you ignore the coupon entirely? What if the coupon was for a bar instead of a restaraunt? What about a coffee house? Would you accept a bar coupon with a minor passenger in the car? What about if it was just you and your partner in the car? Would weather impact the rate of acceptance? What about the time of day?\n",
    "\n",
    "Obviously, proximity to the business is a factor on whether the coupon is delivered to the driver or not, but what are the factors that determine whether a driver accepts the coupon once it is delivered to them? How would you determine whether a driver is likely to accept a coupon?\n",
    "\n",
    "**Overview**\n",
    "\n",
    "The goal of this project is to use what you know about visualizations and probability distributions to distinguish between customers who accepted a driving coupon versus those that did not.\n",
    "\n",
    "**Data**\n",
    "\n",
    "This data comes to us from the UCI Machine Learning repository and was collected via a survey on Amazon Mechanical Turk. The survey describes different driving scenarios including the destination, current time, weather, passenger, etc., and then ask the person whether he will accept the coupon if he is the driver. Answers that the user will drive there ‘right away’ or ‘later before the coupon expires’ are labeled as ‘Y = 1’ and answers ‘no, I do not want the coupon’ are labeled as ‘Y = 0’.  There are five different types of coupons -- less expensive restaurants (under \\\\$20), coffee houses, carry out & take away, bar, and more expensive restaurants (\\\\$20 - \\\\$50). "
   ]
  },
  {
   "cell_type": "markdown",
   "metadata": {},
   "source": [
    "**Deliverables**\n",
    "\n",
    "Your final product should be a brief report that highlights the differences between customers who did and did not accept the coupons.  To explore the data you will utilize your knowledge of plotting, statistical summaries, and visualization using Python. You will publish your findings in a public facing github repository as your first portfolio piece. \n",
    "\n",
    "\n",
    "\n"
   ]
  },
  {
   "cell_type": "markdown",
   "metadata": {},
   "source": [
    "### Data Description\n",
    "Keep in mind that these values mentioned below are average values.\n",
    "\n",
    "The attributes of this data set include:\n",
    "1. User attributes\n",
    "    -  Gender: male, female\n",
    "    -  Age: below 21, 21 to 25, 26 to 30, etc.\n",
    "    -  Marital Status: single, married partner, unmarried partner, or widowed\n",
    "    -  Number of children: 0, 1, or more than 1\n",
    "    -  Education: high school, bachelors degree, associates degree, or graduate degree\n",
    "    -  Occupation: architecture & engineering, business & financial, etc.\n",
    "    -  Annual income: less than \\\\$12500, \\\\$12500 - \\\\$24999, \\\\$25000 - \\\\$37499, etc.\n",
    "    -  Number of times that he/she goes to a bar: 0, less than 1, 1 to 3, 4 to 8 or greater than 8\n",
    "    -  Number of times that he/she buys takeaway food: 0, less than 1, 1 to 3, 4 to 8 or greater\n",
    "    than 8\n",
    "    -  Number of times that he/she goes to a coffee house: 0, less than 1, 1 to 3, 4 to 8 or\n",
    "    greater than 8\n",
    "    -  Number of times that he/she eats at a restaurant with average expense less than \\\\$20 per\n",
    "    person: 0, less than 1, 1 to 3, 4 to 8 or greater than 8\n",
    "    -  Number of times that he/she goes to a bar: 0, less than 1, 1 to 3, 4 to 8 or greater than 8\n",
    "    \n",
    "\n",
    "2. Contextual attributes\n",
    "    - Driving destination: home, work, or no urgent destination\n",
    "    - Location of user, coupon and destination: we provide a map to show the geographical\n",
    "    location of the user, destination, and the venue, and we mark the distance between each\n",
    "    two places with time of driving. The user can see whether the venue is in the same\n",
    "    direction as the destination.\n",
    "    - Weather: sunny, rainy, or snowy\n",
    "    - Temperature: 30F, 55F, or 80F\n",
    "    - Time: 10AM, 2PM, or 6PM\n",
    "    - Passenger: alone, partner, kid(s), or friend(s)\n",
    "\n",
    "\n",
    "3. Coupon attributes\n",
    "    - time before it expires: 2 hours or one day"
   ]
  },
  {
   "cell_type": "code",
   "execution_count": null,
   "metadata": {},
   "outputs": [],
   "source": [
    "import matplotlib.pyplot as plt\n",
    "import seaborn as sns\n",
    "import pandas as pd\n",
    "import numpy as np"
   ]
  },
  {
   "cell_type": "markdown",
   "metadata": {},
   "source": [
    "### Problems\n",
    "\n",
    "Use the prompts below to get started with your data analysis.  \n",
    "\n",
    "1. Read in the `coupons.csv` file.\n",
    "\n",
    "\n"
   ]
  },
  {
   "cell_type": "code",
   "execution_count": null,
   "metadata": {},
   "outputs": [],
   "source": [
    "import pandas as pd\n",
    "data = pd.read_csv(r'C:\\Users\\nicko\\OneDrive\\Desktop\\ML_AI Program\\Module 5\\coupons.csv')"
   ]
  },
  {
   "cell_type": "code",
   "execution_count": null,
   "metadata": {},
   "outputs": [],
   "source": [
    "data.head()"
   ]
  },
  {
   "cell_type": "markdown",
   "metadata": {},
   "source": [
    "2. Investigate the dataset for missing or problematic data."
   ]
  },
  {
   "cell_type": "code",
   "execution_count": null,
   "metadata": {},
   "outputs": [],
   "source": [
    "data.info()\n",
    "\n",
    "columns_missing_data = data.columns[data.isnull().any()]\n",
    "\n",
    "for column in columns_missing_data:\n",
    "    print(\"Column '{}' has missing data.\".format(column))\n",
    "\n",
    "# Remove duplicates\n",
    "data = data.drop_duplicates()\n",
    "print('<===car value Counts===>')\n",
    "print(data['car'].value_counts())\n",
    "\n",
    "print('<===bar value Counts===>')\n",
    "print(data['Bar'].value_counts())\n",
    "\n",
    "print('<===CoffeeHouse value Counts===>')\n",
    "print(data['CoffeeHouse'].value_counts())\n",
    "\n",
    "print('<===CarryAway value Counts===>')\n",
    "print(data['CarryAway'].value_counts())\n",
    "\n",
    "print('<===RestaurantLessThan20 value Counts===>')\n",
    "print(data['RestaurantLessThan20'].value_counts())\n",
    "\n",
    "print('<===Restaurant20To50 value Counts===>')\n",
    "print(data['Restaurant20To50'].value_counts())"
   ]
  },
  {
   "cell_type": "markdown",
   "metadata": {},
   "source": [
    "3. Decide what to do about your missing data -- drop, replace, other..."
   ]
  },
  {
   "cell_type": "code",
   "execution_count": null,
   "metadata": {},
   "outputs": [],
   "source": [
    "# Remove duplicates\n",
    "data = data.drop_duplicates()\n",
    "print('<===car value Counts===>')\n",
    "print(data['car'].value_counts())\n",
    "\n",
    "print('<===bar value Counts===>')\n",
    "print(data['Bar'].value_counts())\n",
    "\n",
    "print('<===CoffeeHouse value Counts===>')\n",
    "print(data['CoffeeHouse'].value_counts())\n",
    "\n",
    "print('<===CarryAway value Counts===>')\n",
    "print(data['CarryAway'].value_counts())\n",
    "\n",
    "print('<===RestaurantLessThan20 value Counts===>')\n",
    "print(data['RestaurantLessThan20'].value_counts())\n",
    "\n",
    "print('<===Restaurant20To50 value Counts===>')\n",
    "print(data['Restaurant20To50'].value_counts())\n",
    "\n",
    "def mapping_missing_data_columns(df, columns):\n",
    "    mapping = {\n",
    "        '1~3': 1,\n",
    "        '4~8': 2,\n",
    "        'less1': 3,\n",
    "        'gt8': 4,\n",
    "        'never': 5\n",
    "    }\n",
    "    mean_values = {}\n",
    "\n",
    "    for column in columns:\n",
    "        df[column + '_Int'] = df[column].map(mapping)\n",
    "        mean_values[column] = int(df[column + '_Int'].mean())\n",
    "\n",
    "        df[column].fillna(df[column + '_Int'].map({v: k for k, v in mapping.items()}), inplace=True)\n",
    "        df[column + '_Int'].fillna(mean_values[column], inplace=True)\n",
    "    \n",
    "    return df\n",
    "columns_with_data = ['CoffeeHouse','CarryAway', 'RestaurantLessThan20','Restaurant20To50','Bar']\n",
    "data = mapping_missing_data_columns(data, columns_with_data)\n",
    "data.head()\n",
    "\n",
    "def convert_to_hours(duration):\n",
    "    pattern = '(\\d+)([dh])'\n",
    "    matches = findall(pattern, duration)\n",
    "    \n",
    "    total_hours = 0\n",
    "    \n",
    "    for match in matches:\n",
    "        value = int(match[0])\n",
    "        unit = match[1]\n",
    "        \n",
    "        if unit == 'd':\n",
    "            total_hours += value * 24\n",
    "        elif unit == 'h':\n",
    "            total_hours += value\n",
    "            \n",
    "    return total_hours\n",
    "data.head()\n",
    "\n",
    "# convert the coupon types to integers\n",
    "def map_categories_to_int(df, column):\n",
    "    category_mapping = {\n",
    "        'Restaurant(<$20)': 1,\n",
    "        'Coffee House': 2,\n",
    "        'Carry out & Take away': 3,\n",
    "        'Bar': 4,\n",
    "        'Restaurant($20-$50)': 5\n",
    "    }\n",
    "    df[column + '_Int'] = df[column].map(category_mapping)\n",
    "    return df\n",
    "\n",
    "# convert the coupon description to integer store into expiration_hours column\n",
    "data = map_categories_to_int(data, 'coupon')\n",
    "\n",
    "\n",
    "data.head()\n",
    "\n",
    "# converting age to ingeger and storing in different column\n",
    "def convert_age_to_int(df, column):\n",
    "    # Define a mapping for 'below21' and '50plus' values\n",
    "    age_mapping = {\n",
    "        'below21': 20,\n",
    "        '50plus': 50\n",
    "    }\n",
    "\n",
    "    # Convert the age column to numeric\n",
    "    df['age_int'] = pd.to_numeric(df[column], errors='coerce')\n",
    "\n",
    "    # Fill 'below21' and '50plus' values using the mapping\n",
    "    df['age_int'].fillna(df[column].map(age_mapping), inplace=True)\n",
    "\n",
    "    # Convert the column to integer data type, handling non-finite values\n",
    "    #df['age_int'] = df[column].apply(lambda x: int(x) if np.isfinite(x) else np.nan)\n",
    "\n",
    "    return df\n",
    "\n",
    "\n",
    "data = convert_age_to_int(data, 'age')\n",
    "data.head(2)\n",
    "data['age'].value_counts()\n",
    "\n",
    "# convering income into integer \n",
    "def convert_income_to_numeric(df, column):\n",
    "    # Extract minimum and maximum values from the income column\n",
    "    df[['min_income', 'max_income']] = df[column].str.extract(r'\\$(\\d+) - \\$(\\d+)')\n",
    "    \n",
    "    # Convert minimum and maximum income columns to numeric values\n",
    "    df['min_income'] = pd.to_numeric(df['min_income'], errors='coerce')\n",
    "    df['max_income'] = pd.to_numeric(df['max_income'], errors='coerce')\n",
    "    \n",
    "    # Calculate the average income\n",
    "    df['average_income'] = (df['min_income'] + df['max_income']) / 2\n",
    "    \n",
    "    # Drop unnecessary columns\n",
    "    df.drop(columns=['min_income', 'max_income'], inplace=True)\n",
    "    \n",
    "    return df\n",
    "\n",
    "data = convert_income_to_numeric(data, 'income')\n",
    "data.head()\n"
   ]
  },
  {
   "cell_type": "markdown",
   "metadata": {},
   "source": [
    "4. What proportion of the total observations chose to accept the coupon? \n",
    "\n"
   ]
  },
  {
   "cell_type": "code",
   "execution_count": null,
   "metadata": {},
   "outputs": [],
   "source": [
    "acceptance_proportion = data['Y'].mean()\n",
    "\n",
    "print(\"Proportion of total observations that chose to accept the coupon: {:5%}\".format(acceptance_proportion))"
   ]
  },
  {
   "cell_type": "markdown",
   "metadata": {},
   "source": [
    "5. Use a bar plot to visualize the `coupon` column."
   ]
  },
  {
   "cell_type": "code",
   "execution_count": null,
   "metadata": {},
   "outputs": [],
   "source": [
    "sns.countplot(data=data, x='coupon')\n",
    "plt.xlabel('Coupon')\n",
    "plt.ylabel('Count')\n",
    "plt.title('Bar Graph of Coupon Types')\n",
    "plt.xticks(rotation=25)\n",
    "plt.show()"
   ]
  },
  {
   "cell_type": "markdown",
   "metadata": {},
   "source": [
    "6. Use a histogram to visualize the temperature column."
   ]
  },
  {
   "cell_type": "code",
   "execution_count": null,
   "metadata": {},
   "outputs": [],
   "source": [
    "sns.histplot(data=data, x='temperature', bins=10,kde=False)\n",
    "plt.xlabel('Temperature')\n",
    "plt.ylabel('Frequency')\n",
    "plt.title('Histogram of Temperature')\n",
    "plt.show()"
   ]
  },
  {
   "cell_type": "code",
   "execution_count": null,
   "metadata": {},
   "outputs": [],
   "source": []
  },
  {
   "cell_type": "code",
   "execution_count": null,
   "metadata": {},
   "outputs": [],
   "source": []
  },
  {
   "cell_type": "code",
   "execution_count": null,
   "metadata": {},
   "outputs": [],
   "source": []
  },
  {
   "cell_type": "code",
   "execution_count": null,
   "metadata": {},
   "outputs": [],
   "source": []
  },
  {
   "cell_type": "markdown",
   "metadata": {},
   "source": [
    "**Investigating the Bar Coupons**\n",
    "\n",
    "Now, we will lead you through an exploration of just the bar related coupons.  \n",
    "\n",
    "1. Create a new `DataFrame` that contains just the bar coupons.\n"
   ]
  },
  {
   "cell_type": "code",
   "execution_count": null,
   "metadata": {},
   "outputs": [],
   "source": [
    "df_barcoupons = data.loc[data['coupon'].str.contains('Bar')]\n",
    "df_barcoupons.head()"
   ]
  },
  {
   "cell_type": "markdown",
   "metadata": {},
   "source": [
    "2. What proportion of bar coupons were accepted?\n"
   ]
  },
  {
   "cell_type": "code",
   "execution_count": null,
   "metadata": {},
   "outputs": [],
   "source": [
    "acceptance_proportion = df_barcoupons['Y'].mean()\n",
    "\n",
    "print(\"Proportion of total observations that accepted the Bar coupon: {:5%}\".format(acceptance_proportion))"
   ]
  },
  {
   "cell_type": "markdown",
   "metadata": {},
   "source": [
    "3. Compare the acceptance rate between those who went to a bar 3 or fewer times a month to those who went more.\n"
   ]
  },
  {
   "cell_type": "code",
   "execution_count": null,
   "metadata": {},
   "outputs": [],
   "source": [
    "# function to calculate the acceptance rate\n",
    "def compare_acceptance_rates(acceptance_rate_group1, acceptance_rate_group2):\n",
    "    # Calculate the percentage difference\n",
    "    percentage_difference = ((acceptance_rate_group1 - acceptance_rate_group2) / acceptance_rate_group2) * 100\n",
    "\n",
    "    # Compare the percentage difference\n",
    "    if percentage_difference > 0:\n",
    "        result = f\"Group 1 has a {percentage_difference:.2f}% higher acceptance rate than Group 2.\"\n",
    "    elif percentage_difference < 0:\n",
    "        result = f\"Group 2 has a {abs(percentage_difference):.2f}% higher acceptance rate than Group 1.\"\n",
    "    else:\n",
    "        result = \"Both groups have equal acceptance rates.\"\n",
    "\n",
    "    return result\n",
    "\n",
    "less_than_4 = df_barcoupons[df_barcoupons['Bar'] == '1~3']  # Subset for those who went to a bar 3 or fewer times\n",
    "more_than_4 = df_barcoupons[df_barcoupons['Bar'].isin(['4~8', 'gt8'])]  # Subset for those who went to a bar more than 3 times\n",
    "\n",
    "# Calculate the acceptance rate for each group\n",
    "acceptance_rate_less_than_4 = less_than_4['Y'].mean()\n",
    "acceptance_rate_more_than_4 = more_than_4['Y'].mean()\n",
    "\n",
    "# Print the acceptance rates\n",
    "print(f\"Acceptance rate for those who went to a bar 3 or fewer times: {acceptance_rate_less_than_4:.2f}\")\n",
    "print(f\"Acceptance rate for those who went to a bar more than 3 times: {acceptance_rate_more_than_4:.2f}\")\n",
    "\n",
    "print(compare_acceptance_rates(acceptance_rate_less_than_4,acceptance_rate_more_than_4))\n",
    "# Define the x-axis values\n",
    "sns.barplot(x=['3 or Fewer', 'More than 3'], y=[acceptance_rate_less_than_4, acceptance_rate_more_than_4])\n",
    "\n",
    "# Add labels and title to the plot\n",
    "plt.xlabel('Bar Visit Frequency')\n",
    "plt.ylabel('Acceptance Rate')\n",
    "plt.title('Coupon Acceptance Rate based on Bar Visit Frequency')\n",
    "\n",
    "# Show the plot\n",
    "plt.show()"
   ]
  },
  {
   "cell_type": "markdown",
   "metadata": {},
   "source": [
    "4. Compare the acceptance rate between drivers who go to a bar more than once a month and are over the age of 25 to the all others.  Is there a difference?\n"
   ]
  },
  {
   "cell_type": "code",
   "execution_count": null,
   "metadata": {},
   "outputs": [],
   "source": [
    "# Getting the age of drivers (using the age_int new column created from age) who are over 25 and have accepted the bar coupon\n",
    "# as the value counts shows ages more thann 25 are all except 21 and below21 so excluding them\n",
    "# Bar_Int is the I have computed from Bar. number 5 is allocated to 5 rest are 1-3 etc are the ones.\n",
    "barcoupons_age_25_filtered = df_barcoupons.query('Bar_Int < 5 and age_int > 25')\n",
    "\n",
    "# getting all other drivers accepted bar coupons\n",
    "barcoupons_age_all_others = df_barcoupons[~df_barcoupons.index.isin(barcoupons_age_25_filtered.index)]\n",
    "\n",
    "# Calculate the acceptance rate for each group\n",
    "mean_25 = barcoupons_age_25_filtered['Y'].mean()\n",
    "mean_all = barcoupons_age_all_others['Y'].mean()\n",
    "\n",
    "# Print the acceptance rates\n",
    "print(f\"Acceptance rate for those who went to a bar 1 or more times and age 25+: {mean_25:.2f}\")\n",
    "print(f\"Acceptance rate for those who went to a bar more than 3 times: {mean_all:.2f}\")\n",
    "\n",
    "# Compare the acceptance rates\n",
    "print(compare_acceptance_rates(mean_25,mean_all))\n",
    "\n",
    "# Define the x-axis values\n",
    "sns.barplot(x=['Age more than 25 and Visti Bar 1 or more', 'Rest of all'], y=[mean_25, mean_all])\n",
    "\n",
    "# Add labels and title to the plot\n",
    "plt.xlabel('Bar Visit Frequency')\n",
    "plt.ylabel('Acceptance Rate')\n",
    "plt.title('Coupon Acceptance Rate based on Bar along with Age Visit Frequency')\n",
    "\n",
    "# Show the plot\n",
    "plt.show()\n",
    "\n",
    "# creating an array with means for pie chart\n",
    "acceptance_rates_25 = [mean_25, mean_all]\n",
    "labels_25 =['Age more than 25 and Visti Bar 1 or more','Rest of all']\n",
    "\n",
    "# Plot the comparison using a pie plot\n",
    "# Create a pie chart\n",
    "plt.pie(acceptance_rates_25, labels=labels_25, autopct='%1.1f%%')\n",
    "plt.title('Acceptance Rates by Group')\n",
    "\n",
    "# Set aspect ratio to be equal, ensuring circular shape\n",
    "plt.axis('equal')\n",
    "\n",
    "# Display the pie chart\n",
    "plt.show()"
   ]
  },
  {
   "cell_type": "markdown",
   "metadata": {},
   "source": [
    "5. Use the same process to compare the acceptance rate between drivers who go to bars more than once a month and had passengers that were not a kid and had occupations other than farming, fishing, or forestry. \n"
   ]
  },
  {
   "cell_type": "code",
   "execution_count": null,
   "metadata": {},
   "outputs": [],
   "source": [
    "# A group of drivers who go to a bar once a month.\n",
    "bar_more_once_month_list = df_barcoupons.query('Bar in[\"1~3\",\"4~8\",\"gt8\"]')\n",
    "# A group of drivers who have passengers with no kids.\n",
    "drivers_has_passenger_list = data.query('passanger in [\"Friend(s)\", \"Partner\"]')\n",
    "# A group of drivers who are not in farming.\n",
    "drivers_has_not_farming_list = data.query('occupation not in[\"farming\",\"fishing\",\"forestry\"]')\n",
    "\n",
    "# Calculate the acceptance rate for each group\n",
    "bar_more_once_month_list_mean = bar_more_once_month_list['Y'].mean()\n",
    "drivers_has_passenger_list_mean = drivers_has_passenger_list['Y'].mean()\n",
    "drivers_has_not_farming_list_mean = drivers_has_not_farming_list['Y'].mean()\n",
    "\n",
    "group_names = ['bar_more_once_month_list_mean', 'drivers_has_passenger_list_mean', 'drivers_has_not_farming_list_mean']\n",
    "labels = ['Bars more than a Month', 'Passengers with No Kid', 'Occupation No Framing']\n",
    "\n",
    "# Create a DataFrame with the acceptance rates and group names\n",
    "group_data = pd.DataFrame({'Group': group_names,\n",
    "                     'Acceptance Rate': [bar_more_once_month_list_mean, drivers_has_passenger_list_mean, drivers_has_not_farming_list_mean]})\n",
    "\n",
    "# Plot the comparison using a bar plot\n",
    "sns.barplot(x='Group', y='Acceptance Rate', data=group_data, order=group_names)\n",
    "plt.xlabel('Groups')\n",
    "plt.ylabel('Acceptance Rate')\n",
    "plt.title('Comparison of Acceptance Rates')\n",
    "plt.xticks(range(len(group_names)), labels,rotation=25)  # Set custom labels on x-axis\n",
    "plt.show()\n",
    "\n",
    "acceptance_rates = [bar_more_once_month_list_mean, drivers_has_passenger_list_mean, drivers_has_not_farming_list_mean]\n",
    "\n",
    "# Plot the comparison using a pie plot\n",
    "# Create a pie chart\n",
    "plt.pie(acceptance_rates, labels=labels, autopct='%1.1f%%')\n",
    "plt.title('Acceptance Rates by Group')\n",
    "\n",
    "# Set aspect ratio to be equal, ensuring circular shape\n",
    "plt.axis('equal')\n",
    "\n",
    "# Display the pie chart\n",
    "plt.show()"
   ]
  },
  {
   "cell_type": "markdown",
   "metadata": {},
   "source": [
    "6. Compare the acceptance rates between those drivers who:\n",
    "\n",
    "- go to bars more than once a month, had passengers that were not a kid, and were not widowed *OR*\n",
    "- go to bars more than once a month and are under the age of 30 *OR*\n",
    "- go to cheap restaurants more than 4 times a month and income is less than 50K. \n",
    "\n"
   ]
  },
  {
   "cell_type": "code",
   "execution_count": null,
   "metadata": {},
   "outputs": [],
   "source": [
    "# finding out unique values of marrital status\n",
    "print(df_barcoupons['maritalStatus'].value_counts())\n",
    "\n",
    "# go to bars more than once a month, had passengers that were not a kid, and were not widowed \n",
    "barcoupons_nokids_windowed = df_barcoupons.query('Bar in[\"1~3\",\"4~8\",\"gt8\"] and passanger in [\"Friend(s)\", \"Partner\"] \\\n",
    "                                        and maritalStatus not in[\"Widowed\"]')\n",
    "#go to bars more than once a month and are under the age of 30\n",
    "barcoupons_age_lt_20 = df_barcoupons.query('Bar in[\"1~3\",\"4~8\",\"gt8\"] and age_int < 30')\n",
    "\n",
    "#go to cheap restaurants more than 4 times a month and income is less than 50K\n",
    "restaurant_income_lt_50 = data.query('average_income < 50000 and RestaurantLessThan20 in [\"4~8\",\"gt8\"]')\n",
    "\n",
    "# Calculate the acceptance rate for each group\n",
    "barcoupons_nokids_windowed_mean = barcoupons_nokids_windowed['Y'].mean()\n",
    "barcoupons_age_lt_20_mean = barcoupons_age_lt_20['Y'].mean()\n",
    "restaurant_income_lt_50_mean = restaurant_income_lt_50['Y'].mean()\n",
    "\n",
    "# creating an array to plot the pie chart\n",
    "acceptance_rates_u2 = [barcoupons_nokids_windowed_mean, barcoupons_age_lt_20_mean, restaurant_income_lt_50_mean]\n",
    "\n",
    "# Define the group names and corresponding labels\n",
    "labels_u2 = ['Passengers with no kids and not widowed', 'Drivers who go to a bar once a month and are aged over 30', 'Drivers with an income of less than 50k who go to inexpensive restaurants']\n",
    "\n",
    "# Plot the comparison using a pie plot\n",
    "# Create a pie chart\n",
    "plt.pie(acceptance_rates_u2, labels=labels_u2, autopct='%1.1f%%')\n",
    "plt.title('Acceptance Rates by Group')\n",
    "\n",
    "# Set aspect ratio to be equal, ensuring circular shape\n",
    "plt.axis('equal')\n",
    "\n",
    "# Display the pie chart\n",
    "plt.show()"
   ]
  },
  {
   "cell_type": "markdown",
   "metadata": {},
   "source": [
    "7.  Based on these observations, what do you hypothesize about drivers who accepted the bar coupons?"
   ]
  },
  {
   "cell_type": "code",
   "execution_count": null,
   "metadata": {},
   "outputs": [],
   "source": [
    "Drivers who went to the bar more than 3 time have the highest acceptance rate which is 77%. The drivers who were 25 years old or older have an a acceptance rate of 54%. "
   ]
  },
  {
   "cell_type": "markdown",
   "metadata": {},
   "source": [
    "### Independent Investigation\n",
    "\n",
    "Using the bar coupon example as motivation, you are to explore one of the other coupon groups and try to determine the characteristics of passengers who accept the coupons.  "
   ]
  },
  {
   "cell_type": "code",
   "execution_count": null,
   "metadata": {},
   "outputs": [],
   "source": []
  },
  {
   "cell_type": "code",
   "execution_count": null,
   "metadata": {},
   "outputs": [],
   "source": []
  },
  {
   "cell_type": "code",
   "execution_count": null,
   "metadata": {},
   "outputs": [],
   "source": []
  },
  {
   "cell_type": "code",
   "execution_count": null,
   "metadata": {},
   "outputs": [],
   "source": []
  },
  {
   "cell_type": "code",
   "execution_count": null,
   "metadata": {},
   "outputs": [],
   "source": []
  }
 ],
 "metadata": {
  "kernelspec": {
   "display_name": "Python 3",
   "language": "python",
   "name": "python3"
  },
  "language_info": {
   "codemirror_mode": {
    "name": "ipython",
    "version": 3
   },
   "file_extension": ".py",
   "mimetype": "text/x-python",
   "name": "python",
   "nbconvert_exporter": "python",
   "pygments_lexer": "ipython3",
   "version": "3.11.3"
  },
  "widgets": {
   "application/vnd.jupyter.widget-state+json": {
    "state": {},
    "version_major": 2,
    "version_minor": 0
   }
  }
 },
 "nbformat": 4,
 "nbformat_minor": 4
}
